{
 "cells": [
  {
   "cell_type": "code",
   "execution_count": 66,
   "metadata": {
    "collapsed": false
   },
   "outputs": [],
   "source": [
    "import pandas as pd\n",
    "import numpy as np\n",
    "import os\n",
    "from collections import Counter\n",
    "from matplotlib import pyplot as plt\n",
    "import ast\n",
    "from scipy.stats import ttest_ind"
   ]
  },
  {
   "cell_type": "code",
   "execution_count": 200,
   "metadata": {
    "collapsed": false
   },
   "outputs": [],
   "source": [
    "DATA_DIR = '/Users/Yuan/Documents/BLab/Predict_target_genes/data'\n",
    "motifs = pd.read_csv(os.path.join(DATA_DIR, 'intermediate/Mon/motif_list.txt'),sep='\\t', header=None)\n",
    "motifs = list(motifs[0])"
   ]
  },
  {
   "cell_type": "code",
   "execution_count": 479,
   "metadata": {
    "collapsed": true
   },
   "outputs": [],
   "source": [
    "def lists_to_binary(df_loci_motif, motifs):\n",
    "    df_loci_motif.columns = [['loci','motifs']]\n",
    "    binary_df = pd.DataFrame([[0] * len(motifs)] * len(df_loci_motif))\n",
    "    binary_df.index = df_loci_motif['loci']\n",
    "    binary_df.columns = motifs\n",
    "    del binary_df.index.name\n",
    "    \n",
    "    for t in xrange(len(df_loci_motif)):\n",
    "        eLoci = df_loci_motif.iloc[t]\n",
    "        binary_df.loc[eLoci['loci'],ast.literal_eval(eLoci['motifs'])] = 1\n",
    "        \n",
    "    return binary_df"
   ]
  },
  {
   "cell_type": "code",
   "execution_count": 491,
   "metadata": {
    "collapsed": false
   },
   "outputs": [],
   "source": [
    "def compute_genes_TFMB(true_df, false_df, motifs):\n",
    "    \n",
    "    true_SNP_motif = lists_to_binary(true_df[['SNP','motif_SNP']], motifs)\n",
    "    false_SNP_motif = lists_to_binary(false_df[['SNP','motif_SNP']], motifs)\n",
    "    true_gene_motif = lists_to_binary(true_df[['GENE','motif_gene']], motifs)\n",
    "    false_gene_motif = lists_to_binary(false_df[['GENE','motif_gene']], motifs)\n",
    "    \n",
    "    ### make sure the SNPs' motif align\n",
    "    temp = list(np.sum(true_SNP_motif,axis=1)).index(np.max(np.sum(true_SNP_motif,axis=1)))\n",
    "    temp_SNP = true_SNP_motif.index[temp]\n",
    "    assert list(true[true['SNP']==temp_SNP]['motif_SNP'])  == list(false[false['SNP']==temp_SNP]['motif_SNP'])\n",
    "    \n",
    "    return true_gene_motif, false_gene_motif"
   ]
  },
  {
   "cell_type": "code",
   "execution_count": 252,
   "metadata": {
    "collapsed": true
   },
   "outputs": [],
   "source": [
    "def compare_proportions(true_gene_motif, false_gene_motif):\n",
    "    '''\n",
    "    The proportions of genes with 0/1/2... TF motif binding sites\n",
    "    '''\n",
    "    true_statistics = pd.DataFrame.from_dict(Counter(list(np.sum(true_gene_motif, axis=1))),orient='index')\n",
    "    false_statistics = pd.DataFrame.from_dict(Counter(list(np.sum(false_gene_motif, axis=1))),orient='index')\n",
    "    statistics = true_statistics.merge(false_statistics,left_index=True, right_index=True, how='outer').fillna(0)\n",
    "    statistics.columns = ['true', 'false']\n",
    "    proportions = statistics.apply(lambda x: np.array(x)*1.0 / np.sum(x),axis=0)\n",
    "    return proportions\n"
   ]
  },
  {
   "cell_type": "code",
   "execution_count": 507,
   "metadata": {
    "collapsed": false
   },
   "outputs": [
    {
     "name": "stdout",
     "output_type": "stream",
     "text": [
      "chr 6\n",
      "chr 12\n",
      "chr 15\n",
      "chr 19\n",
      "(array(0.046361558239191546), 0.96327830949771243)\n",
      "(array(-0.7882154276922746), 0.43603206836865083)\n",
      "(array(0.8228939915242323), 0.41630270169106909)\n",
      "(array(0.3721679642529832), 0.71207751294069366)\n"
     ]
    }
   ],
   "source": [
    "zero_percent, one_percent, two_percent = [], [], []\n",
    "SNP_ATAC, gene_ATAC = [], []\n",
    "celltype = 'Mon'\n",
    "\n",
    "for chr in xrange(22):\n",
    "    chr = chr+1\n",
    "    try:\n",
    "        true = pd.read_csv(os.path.join(DATA_DIR, 'eQTL/FairFax/%s_cis_%i_fdr05_50kb_annotated.csv' % (celltype,chr)),sep='\\t')\n",
    "        false = pd.read_csv(os.path.join(DATA_DIR, 'eQTL/FairFax/%s_cis_%i_fdr05_50kb_negative_annotated.csv' % (celltype,chr)),sep='\\t')\n",
    "        true = true.fillna('[]')\n",
    "        false = false.fillna('[]')\n",
    "        true.ix[true['ATAC_gene'] == 0,'motif_gene'] = '[]'\n",
    "        false.ix[false['ATAC_gene'] == 0,'motif_gene'] = '[]'\n",
    "        \n",
    "        SNP_ATAC.append([Counter(true['ATAC_SNP'])[1]/float(len(true)), Counter(false['ATAC_SNP'])[1]/float(len(false))])\n",
    "        gene_ATAC.append([Counter(true['ATAC_gene'])[1]/float(len(true)), Counter(false['ATAC_gene'])[1]/float(len(false))])\n",
    "        \n",
    "        true_gene_motif, false_gene_motif = compute_genes_TFMB(true, false, motifs)\n",
    "        zero_percent.append([Counter(true_gene_motif.sum(axis=1))[0] / float(len(true)), Counter(false_gene_motif.sum(axis=1))[0] / float(len(false))])\n",
    "        one_percent.append([Counter(true_gene_motif.sum(axis=1))[1] / float(len(true)), Counter(false_gene_motif.sum(axis=1))[1] / float(len(false))])\n",
    "        two_percent.append([Counter(true_gene_motif.sum(axis=1))[2] / float(len(true)), Counter(false_gene_motif.sum(axis=1))[2] / float(len(false))])\n",
    "\n",
    "    except:\n",
    "        print \"chr\",chr\n",
    "        \n",
    "\n",
    "print ttest_ind([x[0] for x in gene_ATAC], [x[1] for x in gene_ATAC])\n",
    "print ttest_ind([x[0] for x in zero_percent], [x[1] for x in zero_percent])\n",
    "print ttest_ind([x[0] for x in one_percent], [x[1] for x in one_percent])\n",
    "print ttest_ind([x[0] for x in two_percent], [x[1] for x in two_percent])\n",
    "\n"
   ]
  },
  {
   "cell_type": "code",
   "execution_count": 508,
   "metadata": {
    "collapsed": false
   },
   "outputs": [
    {
     "data": {
      "text/plain": [
       "[[0.05142857142857143, 0.05084745762711865],\n",
       " [0.14613778705636743, 0.16099773242630386],\n",
       " [0.11351351351351352, 0.09117647058823529],\n",
       " [0.10596026490066225, 0.13028169014084506],\n",
       " [0.08793969849246232, 0.08238636363636363],\n",
       " [0.0997229916897507, 0.15454545454545454],\n",
       " [0.2246376811594203, 0.19047619047619047],\n",
       " [0.191044776119403, 0.14381270903010032],\n",
       " [0.22608695652173913, 0.2161290322580645],\n",
       " [0.24836601307189543, 0.2384428223844282],\n",
       " [0.19753086419753085, 0.24503311258278146],\n",
       " [0.17279411764705882, 0.1328125],\n",
       " [0.22560975609756098, 0.1935483870967742],\n",
       " [0.1365079365079365, 0.1649122807017544],\n",
       " [0.25333333333333335, 0.18681318681318682],\n",
       " [0.3358208955223881, 0.2992125984251969],\n",
       " [0.18326693227091634, 0.22477064220183487],\n",
       " [0.23931623931623933, 0.37037037037037035],\n",
       " [0.2804878048780488, 0.2214765100671141]]"
      ]
     },
     "execution_count": 508,
     "metadata": {},
     "output_type": "execute_result"
    }
   ],
   "source": [
    "gene_ATAC"
   ]
  },
  {
   "cell_type": "code",
   "execution_count": 498,
   "metadata": {
    "collapsed": false
   },
   "outputs": [],
   "source": [
    "### plots\n",
    "\n",
    "\n",
    "plt.figure()\n",
    "plt.plot([x[0] for x in zero_percent],label=\"True eGene\")\n",
    "plt.plot([x[1] for x in zero_percent],label=\"Random gene\")\n",
    "plt.legend()\n",
    "plt.title(\"Proportion of genes with zero TF motifs in the promoter regions (2KB)\")\n",
    "plt.savefig(\"plots/motifs_gene_zero_ATAC.png\")\n",
    "\n",
    "\n",
    "\n",
    "plt.figure()\n",
    "plt.plot([x[0] for x in one_percent],label=\"True eGene\")\n",
    "plt.plot([x[1] for x in one_percent],label=\"Random gene\")\n",
    "plt.legend()\n",
    "plt.title(\"Proportion of genes with one TF motifs in the promoter regions (2KB)\")\n",
    "plt.savefig(\"plots/motifs_gene_one_ATAC.png\")\n",
    "\n",
    "\n",
    "\n",
    "plt.figure()\n",
    "plt.plot([x[0] for x in two_percent],label=\"True eGene\")\n",
    "plt.plot([x[1] for x in two_percent],label=\"Random gene\")\n",
    "plt.legend()\n",
    "plt.title(\"Proportion of genes with two TF motifs in the promoter regions (2KB)\")\n",
    "plt.savefig(\"plots/motifs_gene_two_ATAC.png\")\n",
    "\n",
    "plt.figure()\n",
    "plt.plot([x[0] for x in open_chromosome],label=\"True eGene\")\n",
    "plt.plot([x[1] for x in open_chromosome],label=\"Random gene\")\n",
    "plt.legend()\n",
    "plt.savefig(\"plots/genes_ATAC.png\")\n",
    "\n",
    "\n",
    "plt.close()\n",
    "\n"
   ]
  },
  {
   "cell_type": "code",
   "execution_count": 312,
   "metadata": {
    "collapsed": false
   },
   "outputs": [],
   "source": [
    "true_tfs = pd.DataFrame.from_dict(dict(Counter(true['motif_gene'])),orient='index')\n",
    "false_tfs = pd.DataFrame.from_dict(dict(Counter(false['motif_gene'])),orient='index')\n",
    "tfs = true_tfs.merge(false_tfs,how='outer',left_index=True, right_index=True)\n",
    "tfs.columns=['true','false']\n",
    "\n",
    "tfs = tfs.apply(lambda x: np.array(x) * 1.0/np.nansum(x), axis=0)\n",
    "tfs = tfs.transpose()\n",
    "tfs = tfs.fillna(0)"
   ]
  },
  {
   "cell_type": "code",
   "execution_count": 284,
   "metadata": {
    "collapsed": false
   },
   "outputs": [],
   "source": [
    "plt.figure()\n",
    "plt.scatter(tfs.loc['true'],tfs.loc['false'])\n",
    "plt.plot(np.array(range(0,10))/10.0, np.array(range(0,10))/10.0)\n",
    "plt.xlabel(\"True\")\n",
    "plt.ylabel(\"False\")\n",
    "plt.show()\n",
    "plt.close()"
   ]
  }
 ],
 "metadata": {
  "kernelspec": {
   "display_name": "Python 2",
   "language": "python",
   "name": "python2"
  },
  "language_info": {
   "codemirror_mode": {
    "name": "ipython",
    "version": 2
   },
   "file_extension": ".py",
   "mimetype": "text/x-python",
   "name": "python",
   "nbconvert_exporter": "python",
   "pygments_lexer": "ipython2",
   "version": "2.7.10"
  }
 },
 "nbformat": 4,
 "nbformat_minor": 0
}
